{
 "cells": [
  {
   "cell_type": "markdown",
   "metadata": {},
   "source": [
    "PWC-Net-small mixed-precision model evaluation (on three datasets)\n",
    "==========================================================\n",
    "\n",
    "In this notebook we:\n",
    "- Evaluate the PWC-Net-small mixed-precision model trained on a mix of the `FlyingChairs` and `FlyingThings3DHalfRes` datasets using a Cyclic<sub>short</sub> schedule\n",
    "- Evaluate the trained model on the **validation split** of the `FlyingChairs` dataset and on the **'final'** and **'clean'** versions of the `MPI-Sintel` training dataset, yiedling the following results:\n",
    "\n",
    "| | FlyingChairs | Sintel clean' | Sintel 'final' |\n",
    "| :---: | :---: | :---: | :---: |\n",
    "| Avg EPE | 2.47 | 3.77 | 4.90 |\n",
    "| Inference Time | 39.53ms | 55.16ms | 55.09ms |\n",
    "\n",
    "Below, look for `TODO` references and customize this notebook based on your own needs."
   ]
  },
  {
   "cell_type": "markdown",
   "metadata": {},
   "source": [
    "## Reference\n",
    "\n",
    "[2018a]<a name=\"2018a\"></a> Sun et al. 2018. PWC-Net: CNNs for Optical Flow Using Pyramid, Warping, and Cost Volume. [[arXiv]](https://arxiv.org/abs/1709.02371) [[web]](http://research.nvidia.com/publication/2018-02_PWC-Net%3A-CNNs-for) [[PyTorch (Official)]](https://github.com/NVlabs/PWC-Net/tree/master/PyTorch) [[Caffe (Official)]](https://github.com/NVlabs/PWC-Net/tree/master/Caffe)"
   ]
  },
  {
   "cell_type": "code",
   "execution_count": 1,
   "metadata": {},
   "outputs": [],
   "source": [
    "\"\"\"\n",
    "pwcnet_eval.ipynb\n",
    "\n",
    "PWC-Net model evaluation.\n",
    "\n",
    "Written by Phil Ferriere\n",
    "\n",
    "Licensed under the MIT License (see LICENSE for details)\n",
    "\"\"\"\n",
    "from __future__ import absolute_import, division, print_function\n",
    "import sys\n",
    "from copy import deepcopy\n",
    "import tensorflow as tf\n",
    "\n",
    "from dataset_base import _DEFAULT_DS_VAL_OPTIONS\n",
    "from dataset_flyingchairs import FlyingChairsDataset\n",
    "from dataset_mpisintel import MPISintelDataset\n",
    "from model_pwcnet import ModelPWCNet, _DEFAULT_PWCNET_VAL_OPTIONS"
   ]
  },
  {
   "cell_type": "markdown",
   "metadata": {},
   "source": [
    "## TODO: Set this first!"
   ]
  },
  {
   "cell_type": "code",
   "execution_count": 2,
   "metadata": {},
   "outputs": [],
   "source": [
    "# TODO: You MUST set dataset_root to the correct path on your machine!\n",
    "if sys.platform.startswith(\"win\"):\n",
    "    _DATASET_ROOT = 'E:/datasets/'\n",
    "else:\n",
    "    _DATASET_ROOT = '/media/EDrive/datasets/'\n",
    "_FLYINGCHAIRS_ROOT = _DATASET_ROOT + 'FlyingChairs_release'\n",
    "_MPISINTEL_ROOT = _DATASET_ROOT + 'MPI-Sintel'\n",
    "    \n",
    "# TODO: Set device on which to perform the evaluation\n",
    "gpu_devices = ['/device:GPU:0'] # We're doing the evaluation on a single GPU\n",
    "controller = '/device:GPU:0'\n",
    "\n",
    "# Model to eval\n",
    "ckpt_path = './models/pwcnet-sm-6-2-cyclic-chairsthingsmix-fp16/pwcnet.ckpt-41375'"
   ]
  },
  {
   "cell_type": "markdown",
   "metadata": {},
   "source": [
    "## Eval on the `FlyingChairs` dataset"
   ]
  },
  {
   "cell_type": "code",
   "execution_count": 3,
   "metadata": {},
   "outputs": [
    {
     "name": "stdout",
     "output_type": "stream",
     "text": [
      "Building model...\n",
      "WARNING:tensorflow:From e:\\toolkits.win\\anaconda3-5.2.0\\envs\\dlwin36\\lib\\site-packages\\tensorflow\\python\\keras\\initializers.py:104: calling VarianceScaling.__init__ (from tensorflow.python.ops.init_ops) with distribution=normal is deprecated and will be removed in a future version.\n",
      "Instructions for updating:\n",
      "`normal` is a deprecated alias for `truncated_normal`\n",
      "... model built.\n",
      "Loading model checkpoint ./models/pwcnet-sm-6-2-cyclic-chairsthingsmix-fp16/pwcnet.ckpt-41375 for eval or testing...\n",
      "\n",
      "INFO:tensorflow:Restoring parameters from ./models/pwcnet-sm-6-2-cyclic-chairsthingsmix-fp16/pwcnet.ckpt-41375\n",
      "... model loaded\n"
     ]
    },
    {
     "name": "stderr",
     "output_type": "stream",
     "text": [
      "Measuring EPE: 100%|##############################################| 640/640 [00:43<00:00, 14.76it/s]\n"
     ]
    }
   ],
   "source": [
    "# We're doing the evaluation on the validation split of the dataset\n",
    "mode = 'val'  \n",
    "\n",
    "# Load the dataset in evaluation mode, starting with the default evaluation options\n",
    "ds_opts = deepcopy(_DEFAULT_DS_VAL_OPTIONS)\n",
    "ds = FlyingChairsDataset(mode=mode, ds_root=_FLYINGCHAIRS_ROOT, options=ds_opts)\n",
    "\n",
    "# Configure the model for evaluation, starting with the default evaluation options\n",
    "nn_opts = deepcopy(_DEFAULT_PWCNET_VAL_OPTIONS)\n",
    "nn_opts['verbose'] = True\n",
    "nn_opts['ckpt_path'] = ckpt_path\n",
    "nn_opts['batch_size'] = 1  # Setting this to 1 leads to more accurate evaluations of the processing time\n",
    "nn_opts['use_tf_data'] = False  # Don't use tf.data reader for this simple task\n",
    "nn_opts['gpu_devices'] = gpu_devices\n",
    "nn_opts['controller'] = controller  # Evaluate on CPU or GPU?\n",
    "\n",
    "# We're evaluating the PWC-Net-small model in quarter-resolution mode\n",
    "# That is, with a 6 level pyramid, and uspampling of level 2 by 4 in each dimension as the final flow prediction\n",
    "nn_opts['use_dense_cx'] = False\n",
    "nn_opts['use_res_cx'] = False\n",
    "nn_opts['pyr_lvls'] = 6\n",
    "nn_opts['flow_pred_lvl'] = 2\n",
    "\n",
    "# Mixed precision fields\n",
    "nn_opts['use_mixed_precision'] = True\n",
    "nn_opts['x_dtype'] = tf.float16\n",
    "nn_opts['y_dtype'] = tf.float32\n",
    "\n",
    "# Instantiate the model in evaluation mode and display the model configuration\n",
    "nn = ModelPWCNet(mode=mode, options=nn_opts, dataset=ds)\n",
    "\n",
    "# Evaluate the model\n",
    "avg_metric, avg_duration, _ = nn.eval(metric_name='EPE', save_preds=False)"
   ]
  },
  {
   "cell_type": "code",
   "execution_count": 4,
   "metadata": {},
   "outputs": [
    {
     "name": "stdout",
     "output_type": "stream",
     "text": [
      "Average EPE=2.47, mean inference time=39.53ms\n"
     ]
    }
   ],
   "source": [
    "print(f'Average EPE={avg_metric:.2f}, mean inference time={avg_duration*1000.:.2f}ms')"
   ]
  },
  {
   "cell_type": "markdown",
   "metadata": {},
   "source": [
    "## Eval on the 'clean' `MPI-Sintel` dataset"
   ]
  },
  {
   "cell_type": "code",
   "execution_count": 5,
   "metadata": {
    "scrolled": true
   },
   "outputs": [
    {
     "name": "stdout",
     "output_type": "stream",
     "text": [
      "Building model...\n",
      "... model built.\n",
      "Loading model checkpoint ./models/pwcnet-sm-6-2-cyclic-chairsthingsmix-fp16/pwcnet.ckpt-41375 for eval or testing...\n",
      "\n",
      "INFO:tensorflow:Restoring parameters from ./models/pwcnet-sm-6-2-cyclic-chairsthingsmix-fp16/pwcnet.ckpt-41375\n",
      "... model loaded\n"
     ]
    },
    {
     "name": "stderr",
     "output_type": "stream",
     "text": [
      "Measuring EPE: 100%|############################################| 1041/1041 [02:46<00:00,  6.25it/s]\n"
     ]
    }
   ],
   "source": [
    "# We're doing evaluation using the entire dataset for evaluation\n",
    "mode = 'val_notrain'  \n",
    "\n",
    "# Load the dataset in evaluation mode, starting with the default evaluation options\n",
    "ds_opts = deepcopy(_DEFAULT_DS_VAL_OPTIONS)\n",
    "ds_opts['type'] = 'clean'\n",
    "ds = MPISintelDataset(mode=mode, ds_root=_MPISINTEL_ROOT, options=ds_opts)\n",
    "\n",
    "# Configure the model for evaluation, starting with the default evaluation options\n",
    "nn_opts = deepcopy(_DEFAULT_PWCNET_VAL_OPTIONS)\n",
    "nn_opts['verbose'] = True\n",
    "nn_opts['ckpt_path'] = ckpt_path\n",
    "nn_opts['batch_size'] = 1  # Setting this to 1 leads to more accurate evaluations of the processing time\n",
    "nn_opts['use_tf_data'] = False  # Don't use tf.data reader for this simple task\n",
    "nn_opts['gpu_devices'] = gpu_devices\n",
    "nn_opts['controller'] = controller  # Evaluate on CPU or GPU?\n",
    "\n",
    "# We're evaluating the PWC-Net-small model in quarter-resolution mode\n",
    "# That is, with a 6 level pyramid, and uspampling of level 2 by 4 in each dimension as the final flow prediction\n",
    "nn_opts['use_dense_cx'] = False\n",
    "nn_opts['use_res_cx'] = False\n",
    "nn_opts['pyr_lvls'] = 6\n",
    "nn_opts['flow_pred_lvl'] = 2\n",
    "\n",
    "# Mixed precision fields\n",
    "nn_opts['use_mixed_precision'] = True\n",
    "nn_opts['x_dtype'] = tf.float16\n",
    "nn_opts['y_dtype'] = tf.float32\n",
    "\n",
    "# The size of the images in this dataset are not multiples of 64, while the model generates flows padded to multiples\n",
    "# of 64. Hence, we need to crop the predicted flows to their original size\n",
    "nn_opts['adapt_info'] = (1, 436, 1024, 2)\n",
    "\n",
    "# Instantiate the model in evaluation mode and display the model configuration\n",
    "nn = ModelPWCNet(mode=mode, options=nn_opts, dataset=ds)\n",
    "\n",
    "# Evaluate the model\n",
    "avg_metric, avg_duration, _ = nn.eval(metric_name='EPE', save_preds=False)"
   ]
  },
  {
   "cell_type": "code",
   "execution_count": 6,
   "metadata": {},
   "outputs": [
    {
     "name": "stdout",
     "output_type": "stream",
     "text": [
      "Average EPE=3.77, mean inference time=55.16ms\n"
     ]
    }
   ],
   "source": [
    "print(f'Average EPE={avg_metric:.2f}, mean inference time={avg_duration*1000.:.2f}ms')"
   ]
  },
  {
   "cell_type": "markdown",
   "metadata": {},
   "source": [
    "## Eval on the 'final' `MPI-Sintel` dataset"
   ]
  },
  {
   "cell_type": "code",
   "execution_count": 7,
   "metadata": {
    "scrolled": true
   },
   "outputs": [
    {
     "name": "stdout",
     "output_type": "stream",
     "text": [
      "Building model...\n",
      "... model built.\n",
      "Loading model checkpoint ./models/pwcnet-sm-6-2-cyclic-chairsthingsmix-fp16/pwcnet.ckpt-41375 for eval or testing...\n",
      "\n",
      "INFO:tensorflow:Restoring parameters from ./models/pwcnet-sm-6-2-cyclic-chairsthingsmix-fp16/pwcnet.ckpt-41375\n",
      "... model loaded\n"
     ]
    },
    {
     "name": "stderr",
     "output_type": "stream",
     "text": [
      "Measuring EPE: 100%|############################################| 1041/1041 [02:45<00:00,  6.28it/s]\n"
     ]
    }
   ],
   "source": [
    "# We're doing evaluation using the entire dataset for evaluation\n",
    "mode = 'val_notrain'\n",
    "\n",
    "# Load the dataset in evaluation mode, starting with the default evaluation options\n",
    "ds_opts = deepcopy(_DEFAULT_DS_VAL_OPTIONS)\n",
    "ds_opts['type'] = 'final'\n",
    "ds = MPISintelDataset(mode=mode, ds_root=_MPISINTEL_ROOT, options=ds_opts)\n",
    "\n",
    "# Configure the model for evaluation, starting with the default evaluation options\n",
    "nn_opts = deepcopy(_DEFAULT_PWCNET_VAL_OPTIONS)\n",
    "nn_opts['verbose'] = True\n",
    "nn_opts['ckpt_path'] = ckpt_path\n",
    "nn_opts['batch_size'] = 1               # Setting this to 1 leads to more accurate evaluations of the processing time\n",
    "nn_opts['use_tf_data'] = False          # Don't use tf.data reader for this simple task\n",
    "nn_opts['gpu_devices'] = gpu_devices\n",
    "nn_opts['controller'] = controller      # Evaluate on CPU or GPU?\n",
    "\n",
    "# We're evaluating the PWC-Net-small model in quarter-resolution mode\n",
    "# That is, with a 6 level pyramid, and uspampling of level 2 by 4 in each dimension as the final flow prediction\n",
    "nn_opts['use_dense_cx'] = False\n",
    "nn_opts['use_res_cx'] = False\n",
    "nn_opts['pyr_lvls'] = 6\n",
    "nn_opts['flow_pred_lvl'] = 2\n",
    "\n",
    "# Mixed precision fields\n",
    "nn_opts['use_mixed_precision'] = True\n",
    "nn_opts['x_dtype'] = tf.float16\n",
    "nn_opts['y_dtype'] = tf.float32\n",
    "\n",
    "# The size of the images in this dataset are not multiples of 64, while the model generates flows padded to multiples\n",
    "# of 64. Hence, we need to crop the predicted flows to their original size\n",
    "nn_opts['adapt_info'] = (1, 436, 1024, 2)\n",
    "\n",
    "# Instantiate the model in evaluation mode and display the model configuration\n",
    "nn = ModelPWCNet(mode=mode, options=nn_opts, dataset=ds)\n",
    "\n",
    "# Evaluate the model\n",
    "avg_metric, avg_duration, _ = nn.eval(metric_name='EPE', save_preds=False)"
   ]
  },
  {
   "cell_type": "code",
   "execution_count": 8,
   "metadata": {},
   "outputs": [
    {
     "name": "stdout",
     "output_type": "stream",
     "text": [
      "Average EPE=4.90, mean inference time=55.09ms\n"
     ]
    }
   ],
   "source": [
    "print(f'Average EPE={avg_metric:.2f}, mean inference time={avg_duration*1000.:.2f}ms')"
   ]
  }
 ],
 "metadata": {
  "kernelspec": {
   "display_name": "Python 3",
   "language": "python",
   "name": "python3"
  },
  "language_info": {
   "codemirror_mode": {
    "name": "ipython",
    "version": 3
   },
   "file_extension": ".py",
   "mimetype": "text/x-python",
   "name": "python",
   "nbconvert_exporter": "python",
   "pygments_lexer": "ipython3",
   "version": "3.6.5"
  }
 },
 "nbformat": 4,
 "nbformat_minor": 2
}
